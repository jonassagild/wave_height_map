{
 "cells": [
  {
   "attachments": {},
   "cell_type": "markdown",
   "metadata": {},
   "source": [
    "## Setup and load the data"
   ]
  },
  {
   "cell_type": "code",
   "execution_count": 1,
   "metadata": {},
   "outputs": [],
   "source": [
    "import xarray as xr\n",
    "\n",
    "dataset_filename = \"waves_2019-01-01.nc\"\n",
    "\n",
    "ds_from_disk = xr.open_dataset(dataset_filename)"
   ]
  },
  {
   "attachments": {},
   "cell_type": "markdown",
   "metadata": {},
   "source": [
    "## Find the hmax at coordinates (0,0) on 2019-01-01"
   ]
  },
  {
   "cell_type": "code",
   "execution_count": 9,
   "metadata": {},
   "outputs": [
    {
     "name": "stdout",
     "output_type": "stream",
     "text": [
      "<xarray.DataArray 'hmax' ()>\n",
      "array(2.3259907, dtype=float32)\n",
      "Coordinates:\n",
      "    longitude  float32 0.0\n",
      "    latitude   float32 0.0\n"
     ]
    }
   ],
   "source": [
    "hmax_at_origo = ds_from_disk.hmax.loc[{'longitude': 0, 'latitude': 0}]\n",
    "\n",
    "max_hmax_at_origo = hmax_at_origo.max()\n",
    "print(max_hmax_at_origo)"
   ]
  },
  {
   "attachments": {},
   "cell_type": "markdown",
   "metadata": {},
   "source": [
    "## The final answer is 2.3259907"
   ]
  }
 ],
 "metadata": {
  "kernelspec": {
   "display_name": "venv",
   "language": "python",
   "name": "python3"
  },
  "language_info": {
   "codemirror_mode": {
    "name": "ipython",
    "version": 3
   },
   "file_extension": ".py",
   "mimetype": "text/x-python",
   "name": "python",
   "nbconvert_exporter": "python",
   "pygments_lexer": "ipython3",
   "version": "3.11.3"
  },
  "orig_nbformat": 4
 },
 "nbformat": 4,
 "nbformat_minor": 2
}
